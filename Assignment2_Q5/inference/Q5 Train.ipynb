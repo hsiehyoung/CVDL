{
 "cells": [
  {
   "cell_type": "code",
   "execution_count": 21,
   "metadata": {},
   "outputs": [],
   "source": [
    "import tensorflow.compat.v2 as tf \n",
    "from tensorflow.keras.preprocessing.image import ImageDataGenerator\n",
    "import matplotlib.pyplot as plt    \n",
    "import tensorflow.keras\n",
    "from tensorflow.keras.optimizers import SGD\n",
    "from tensorflow.keras.models import Sequential\n",
    "from tensorflow.keras.layers import  Dense, Flatten, Activation,Conv2D, MaxPooling2D\n",
    "import datetime\n",
    "# import tensorflow.keras.backend as K\n",
    "from tensorflow.keras.callbacks import TensorBoard\n",
    "from tensorflow_addons.losses import SigmoidFocalCrossEntropy\n",
    "import os"
   ]
  },
  {
   "cell_type": "code",
   "execution_count": 22,
   "metadata": {},
   "outputs": [
    {
     "name": "stdout",
     "output_type": "stream",
     "text": [
      "Found 16241 images belonging to 2 classes.\n",
      "Found 4110 images belonging to 2 classes.\n"
     ]
    }
   ],
   "source": [
    "# K.clear_session()\n",
    "datagen = ImageDataGenerator(rescale=1.0/255.0)\n",
    "\n",
    "# prepare iterators\n",
    "train_it = datagen.flow_from_directory('C:\\\\Users\\\\TSUNGYU\\\\Desktop\\\\Dataset_OpenCvDl_Hw2_Q5training_dataset\\\\resize',\n",
    "    class_mode='categorical', batch_size=32, target_size=(200, 200))\n",
    "test_it = datagen.flow_from_directory('C:\\\\Users\\\\TSUNGYU\\\\Desktop\\\\Dataset_OpenCvDl_Hw2_Q5validation_dataset\\\\resize',\n",
    "    class_mode='categorical', batch_size=32, target_size=(200, 200))"
   ]
  },
  {
   "cell_type": "code",
   "execution_count": 23,
   "metadata": {},
   "outputs": [
    {
     "data": {
      "text/plain": [
       "{'Cat': 0, 'Dog': 1}"
      ]
     },
     "execution_count": 23,
     "metadata": {},
     "output_type": "execute_result"
    }
   ],
   "source": [
    "train_it.class_indices"
   ]
  },
  {
   "cell_type": "code",
   "execution_count": 24,
   "metadata": {},
   "outputs": [],
   "source": [
    "Model = tensorflow.keras.applications.resnet.ResNet50(include_top=True, weights=None, input_tensor=None, \n",
    "                                   input_shape=(200, 200, 3), pooling=None, classes=2)\n",
    "#loss_function = SigmoidFocalCrossEntropy(alpha=0.4, gamma = 1.0)\n",
    "loss_function = tf.keras.losses.BinaryCrossentropy()\n",
    "opt = tensorflow.keras.optimizers.Adam(learning_rate=0.01, beta_1=0.9, beta_2=0.999, epsilon=None, decay=0.0, amsgrad=False)\n",
    "Model.compile(optimizer=opt, loss=loss_function, metrics=['accuracy'])"
   ]
  },
  {
   "cell_type": "code",
   "execution_count": 25,
   "metadata": {},
   "outputs": [],
   "source": [
    "# # K.clear_session()\n",
    "log_dir=\"logs\\\\fit\\\\\" + datetime.datetime.now().strftime(\"%Y%m%d-%H%M%S\")\n",
    "# tensorboard_callback = tf.keras.callbacks.TensorBoard(log_dir=log_dir, histogram_freq=1)\n",
    "# log_dir=\"F:\\\" + datetime.datetime.now().strftime(\"%Y%m%d-%H%M%S\")\n",
    "tensorboard_callback = tf.keras.callbacks.TensorBoard(log_dir=log_dir, histogram_freq=1)"
   ]
  },
  {
   "cell_type": "code",
   "execution_count": 26,
   "metadata": {
    "scrolled": false
   },
   "outputs": [
    {
     "name": "stderr",
     "output_type": "stream",
     "text": [
      "C:\\Users\\TSUNGYU\\AppData\\Local\\Temp\\ipykernel_3176\\146771670.py:1: UserWarning: `Model.fit_generator` is deprecated and will be removed in a future version. Please use `Model.fit`, which supports generators.\n",
      "  history = Model.fit_generator(train_it, steps_per_epoch=len(train_it),\n"
     ]
    },
    {
     "name": "stdout",
     "output_type": "stream",
     "text": [
      "Epoch 1/5\n",
      "508/508 [==============================] - 4819s 9s/step - loss: 0.7095 - accuracy: 0.6591 - val_loss: 0.7697 - val_accuracy: 0.6231\n",
      "Epoch 2/5\n",
      "508/508 [==============================] - 4941s 10s/step - loss: 0.5980 - accuracy: 0.6727 - val_loss: 0.5900 - val_accuracy: 0.6842\n",
      "Epoch 3/5\n",
      "508/508 [==============================] - 5093s 10s/step - loss: 0.5834 - accuracy: 0.6848 - val_loss: 0.6151 - val_accuracy: 0.6937\n",
      "Epoch 4/5\n",
      "508/508 [==============================] - 4201s 8s/step - loss: 0.5644 - accuracy: 0.6992 - val_loss: 0.8571 - val_accuracy: 0.6808\n",
      "Epoch 5/5\n",
      "508/508 [==============================] - 4250s 8s/step - loss: 0.5550 - accuracy: 0.7061 - val_loss: 0.7645 - val_accuracy: 0.6793\n"
     ]
    }
   ],
   "source": [
    "history = Model.fit_generator(train_it, steps_per_epoch=len(train_it),\n",
    "    validation_data=test_it, validation_steps=len(test_it), epochs=5, verbose=1,callbacks=[tensorboard_callback])\n",
    "Model.save('Q5_Model_binary.h5')"
   ]
  },
  {
   "cell_type": "code",
   "execution_count": null,
   "metadata": {},
   "outputs": [],
   "source": []
  }
 ],
 "metadata": {
  "kernelspec": {
   "display_name": "Python 3 (ipykernel)",
   "language": "python",
   "name": "python3"
  },
  "language_info": {
   "codemirror_mode": {
    "name": "ipython",
    "version": 3
   },
   "file_extension": ".py",
   "mimetype": "text/x-python",
   "name": "python",
   "nbconvert_exporter": "python",
   "pygments_lexer": "ipython3",
   "version": "3.9.12"
  }
 },
 "nbformat": 4,
 "nbformat_minor": 4
}
