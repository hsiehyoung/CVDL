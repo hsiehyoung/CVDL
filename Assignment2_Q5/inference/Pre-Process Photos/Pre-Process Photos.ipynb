{
 "cells": [
  {
   "cell_type": "code",
   "execution_count": 1,
   "metadata": {},
   "outputs": [],
   "source": [
    "from numpy import load\n",
    "from keras.preprocessing.image import ImageDataGenerator\n",
    "from os import makedirs\n",
    "from os import listdir\n",
    "from shutil import copyfile\n",
    "from random import seed\n",
    "from random import random"
   ]
  },
  {
   "cell_type": "code",
   "execution_count": 2,
   "metadata": {},
   "outputs": [],
   "source": [
    "dataset_home = 'C:\\\\Users\\\\TSUNGYU\\\\Desktop\\\\Dataset_OpenCvDl_Hw2_Q5'\n",
    "subdirs = ['training_dataset\\\\', 'validation_dataset\\\\']\n",
    "for subdir in subdirs:\n",
    "    # create label subdirectories\n",
    "    labeldirs = ['Dog\\\\', 'Cat\\\\']\n",
    "    for labldir in labeldirs:\n",
    "        newdir = dataset_home + subdir + labldir\n",
    "        makedirs(newdir, exist_ok=True)"
   ]
  },
  {
   "cell_type": "code",
   "execution_count": 5,
   "metadata": {},
   "outputs": [],
   "source": [
    "seed(1)\n",
    "# define ratio of pictures to use for validation\n",
    "val_ratio = 0.25\n",
    "# copy training dataset images into subdirectories\n",
    "src_directory = 'C:\\\\Users\\\\TSUNGYU\\\\Desktop\\\\Dataset_OpenCvDl_Hw2_Q5\\\\training_dataset\\\\Dog'\n",
    "for file in listdir(src_directory):\n",
    "    src = src_directory + '\\\\' + file\n",
    "    dst_dir = 'training_dataset\\\\'\n",
    "    if random() < val_ratio:\n",
    "        dst_dir = 'validation_dataset\\\\'\n",
    "    dst = dataset_home + dst_dir + 'Dog\\\\'  + file\n",
    "    copyfile(src, dst)\n",
    "\n",
    "src_directory = 'C:\\\\Users\\\\TSUNGYU\\\\Desktop\\\\Dataset_OpenCvDl_Hw2_Q5\\\\training_dataset\\\\Cat'\n",
    "for file in listdir(src_directory):\n",
    "    src = src_directory + '\\\\' + file\n",
    "    dst_dir = 'training_dataset\\\\'\n",
    "    if random() < val_ratio:\n",
    "        dst_dir = 'validation_dataset\\\\'\n",
    "    dst = dataset_home + dst_dir + 'Cat\\\\'  + file\n",
    "    copyfile(src, dst)"
   ]
  },
  {
   "cell_type": "code",
   "execution_count": null,
   "metadata": {},
   "outputs": [],
   "source": []
  }
 ],
 "metadata": {
  "kernelspec": {
   "display_name": "Python 3 (ipykernel)",
   "language": "python",
   "name": "python3"
  },
  "language_info": {
   "codemirror_mode": {
    "name": "ipython",
    "version": 3
   },
   "file_extension": ".py",
   "mimetype": "text/x-python",
   "name": "python",
   "nbconvert_exporter": "python",
   "pygments_lexer": "ipython3",
   "version": "3.9.12"
  }
 },
 "nbformat": 4,
 "nbformat_minor": 4
}
